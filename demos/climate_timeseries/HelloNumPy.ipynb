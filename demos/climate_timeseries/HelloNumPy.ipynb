{
 "cells": [
  {
   "cell_type": "code",
   "execution_count": 44,
   "metadata": {
    "autoscroll": "json-false",
    "collapsed": false,
    "ein.tags": [
     "worksheet-0"
    ]
   },
   "outputs": [],
   "source": [
    "from numpy import *\n",
    "from numpy.random import *\n",
    "from matplotlib.pyplot import *\n",
    "%matplotlib inline\n",
    "matplotlib.rcParams['figure.figsize'] = (10.0, 8.0)"
   ]
  },
  {
   "cell_type": "code",
   "execution_count": 5,
   "metadata": {
    "autoscroll": "json-false",
    "collapsed": false,
    "ein.tags": [
     "worksheet-0"
    ]
   },
   "outputs": [
    {
     "data": {
      "text/plain": [
       "array([1, 2, 3])"
      ]
     },
     "execution_count": 5,
     "metadata": {},
     "output_type": "execute_result"
    }
   ],
   "source": [
    "a = array( [1,2,3])\n",
    "a"
   ]
  },
  {
   "cell_type": "code",
   "execution_count": 6,
   "metadata": {
    "autoscroll": "json-false",
    "collapsed": false,
    "ein.tags": [
     "worksheet-0"
    ]
   },
   "outputs": [],
   "source": [
    "b = array([2,1,3])"
   ]
  },
  {
   "cell_type": "code",
   "execution_count": 7,
   "metadata": {
    "autoscroll": "json-false",
    "collapsed": false,
    "ein.tags": [
     "worksheet-0"
    ]
   },
   "outputs": [
    {
     "data": {
      "text/plain": [
       "array([3, 3, 6])"
      ]
     },
     "execution_count": 7,
     "metadata": {},
     "output_type": "execute_result"
    }
   ],
   "source": [
    "a + b"
   ]
  },
  {
   "cell_type": "code",
   "execution_count": 8,
   "metadata": {
    "autoscroll": "json-false",
    "collapsed": false,
    "ein.tags": [
     "worksheet-0"
    ]
   },
   "outputs": [
    {
     "data": {
      "text/plain": [
       "array([-1,  1,  0])"
      ]
     },
     "execution_count": 8,
     "metadata": {},
     "output_type": "execute_result"
    }
   ],
   "source": [
    "a - b"
   ]
  },
  {
   "cell_type": "code",
   "execution_count": 9,
   "metadata": {
    "autoscroll": "json-false",
    "collapsed": false,
    "ein.tags": [
     "worksheet-0"
    ]
   },
   "outputs": [
    {
     "data": {
      "text/plain": [
       "array([2, 2, 9])"
      ]
     },
     "execution_count": 9,
     "metadata": {},
     "output_type": "execute_result"
    }
   ],
   "source": [
    "a * b"
   ]
  },
  {
   "cell_type": "code",
   "execution_count": 10,
   "metadata": {
    "autoscroll": "json-false",
    "collapsed": false,
    "ein.tags": [
     "worksheet-0"
    ]
   },
   "outputs": [
    {
     "data": {
      "text/plain": [
       "array([ 0.5,  2. ,  1. ])"
      ]
     },
     "execution_count": 10,
     "metadata": {},
     "output_type": "execute_result"
    }
   ],
   "source": [
    "a / b\n"
   ]
  },
  {
   "cell_type": "code",
   "execution_count": 12,
   "metadata": {
    "autoscroll": "json-false",
    "collapsed": false,
    "ein.tags": [
     "worksheet-0"
    ]
   },
   "outputs": [
    {
     "data": {
      "text/plain": [
       "array([  0.,   1.,   2.,   3.,   4.,   5.,   6.,   7.,   8.,   9.,  10.])"
      ]
     },
     "execution_count": 12,
     "metadata": {},
     "output_type": "execute_result"
    }
   ],
   "source": [
    "c = arange(11.)\n",
    "c"
   ]
  },
  {
   "cell_type": "code",
   "execution_count": 13,
   "metadata": {
    "autoscroll": "json-false",
    "collapsed": false,
    "ein.tags": [
     "worksheet-0"
    ]
   },
   "outputs": [],
   "source": [
    "c = arange?\n"
   ]
  },
  {
   "cell_type": "code",
   "execution_count": 14,
   "metadata": {
    "autoscroll": "json-false",
    "collapsed": false,
    "ein.tags": [
     "worksheet-0"
    ]
   },
   "outputs": [],
   "source": [
    "x = arange(0,2*pi,0.05)"
   ]
  },
  {
   "cell_type": "code",
   "execution_count": 15,
   "metadata": {
    "autoscroll": "json-false",
    "collapsed": false,
    "ein.tags": [
     "worksheet-0"
    ]
   },
   "outputs": [],
   "source": [
    "y = sin(x)"
   ]
  },
  {
   "cell_type": "code",
   "execution_count": 25,
   "metadata": {
    "autoscroll": "json-false",
    "collapsed": false,
    "ein.tags": [
     "worksheet-0"
    ]
   },
   "outputs": [
    {
     "data": {
      "text/plain": [
       "<matplotlib.figure.Figure at 0x7fec0617a4e0>"
      ]
     },
     "metadata": {},
     "output_type": "display_data"
    },
    {
     "data": {
      "text/plain": [
       "[<matplotlib.lines.Line2D at 0x7fec060e2780>]"
      ]
     },
     "execution_count": 25,
     "metadata": {},
     "output_type": "execute_result"
    }
   ],
   "source": [
    "plot(x,y)"
   ]
  },
  {
   "cell_type": "code",
   "execution_count": 22,
   "metadata": {
    "autoscroll": "json-false",
    "collapsed": false,
    "ein.tags": [
     "worksheet-0"
    ]
   },
   "outputs": [],
   "source": []
  },
  {
   "cell_type": "code",
   "execution_count": 26,
   "metadata": {
    "autoscroll": "json-false",
    "collapsed": false,
    "ein.tags": [
     "worksheet-0"
    ]
   },
   "outputs": [],
   "source": [
    "x = linspace(0,2*pi, 50)"
   ]
  },
  {
   "cell_type": "code",
   "execution_count": 27,
   "metadata": {
    "autoscroll": "json-false",
    "collapsed": false,
    "ein.tags": [
     "worksheet-0"
    ]
   },
   "outputs": [
    {
     "data": {
      "text/plain": [
       "<matplotlib.figure.Figure at 0x7fec060f8128>"
      ]
     },
     "metadata": {},
     "output_type": "display_data"
    },
    {
     "data": {
      "text/plain": [
       "[<matplotlib.lines.Line2D at 0x7fec0606fda0>]"
      ]
     },
     "execution_count": 27,
     "metadata": {},
     "output_type": "execute_result"
    }
   ],
   "source": [
    "plot(sin(x))"
   ]
  },
  {
   "cell_type": "code",
   "execution_count": 48,
   "metadata": {
    "autoscroll": "json-false",
    "collapsed": false,
    "ein.tags": [
     "worksheet-0"
    ]
   },
   "outputs": [
    {
     "data": {
      "text/plain": [
       "<matplotlib.figure.Figure at 0x7fec059afac8>"
      ]
     },
     "metadata": {},
     "output_type": "display_data"
    },
    {
     "data": {
      "text/plain": [
       "[<matplotlib.lines.Line2D at 0x7fec059771d0>,\n <matplotlib.lines.Line2D at 0x7fec05977ba8>]"
      ]
     },
     "execution_count": 48,
     "metadata": {},
     "output_type": "execute_result"
    }
   ],
   "source": [
    "plot (x, sin(x),\n",
    "      x, sin(2*x))"
   ]
  },
  {
   "cell_type": "code",
   "execution_count": 33,
   "metadata": {
    "autoscroll": "json-false",
    "collapsed": false,
    "ein.tags": [
     "worksheet-0"
    ]
   },
   "outputs": [
    {
     "data": {
      "text/plain": [
       "<matplotlib.figure.Figure at 0x7fec05f328d0>"
      ]
     },
     "metadata": {},
     "output_type": "display_data"
    },
    {
     "data": {
      "text/plain": [
       "[<matplotlib.lines.Line2D at 0x7fec05f59e80>,\n <matplotlib.lines.Line2D at 0x7fec05f04dd8>]"
      ]
     },
     "execution_count": 33,
     "metadata": {},
     "output_type": "execute_result"
    }
   ],
   "source": [
    "plot (x, -sin(2*x),\n",
    "      x/2, sin(x))\n"
   ]
  },
  {
   "cell_type": "code",
   "execution_count": 47,
   "metadata": {
    "autoscroll": "json-false",
    "collapsed": false,
    "ein.tags": [
     "worksheet-0"
    ]
   },
   "outputs": [
    {
     "data": {
      "text/plain": [
       "<matplotlib.figure.Figure at 0x7fec05b01c88>"
      ]
     },
     "metadata": {},
     "output_type": "display_data"
    },
    {
     "data": {
      "text/plain": [
       "[<matplotlib.lines.Line2D at 0x7fec05a1c278>,\n <matplotlib.lines.Line2D at 0x7fec05a1c4e0>]"
      ]
     },
     "execution_count": 47,
     "metadata": {},
     "output_type": "execute_result"
    }
   ],
   "source": [
    "plot (x, -sin(2*x),'b-o',\n",
    "      x/2, sin(x),'r-^')\n"
   ]
  },
  {
   "cell_type": "code",
   "execution_count": null,
   "metadata": {
    "autoscroll": "json-false",
    "collapsed": false,
    "ein.tags": [
     "worksheet-0"
    ]
   },
   "outputs": [],
   "source": []
  },
  {
   "cell_type": "code",
   "execution_count": 46,
   "metadata": {
    "autoscroll": "json-false",
    "collapsed": false,
    "ein.tags": [
     "worksheet-0"
    ]
   },
   "outputs": [
    {
     "data": {
      "text/plain": [
       "<matplotlib.figure.Figure at 0x7fec05b01320>"
      ]
     },
     "metadata": {},
     "output_type": "display_data"
    },
    {
     "data": {
      "text/plain": [
       "<matplotlib.colorbar.Colorbar at 0x7fec05a2d400>"
      ]
     },
     "execution_count": 46,
     "metadata": {},
     "output_type": "execute_result"
    }
   ],
   "source": [
    "scatter (x, sin(x), rand(len(x))*30,rand(len(x)))\n",
    "colorbar()"
   ]
  },
  {
   "cell_type": "code",
   "execution_count": 45,
   "metadata": {
    "autoscroll": "json-false",
    "collapsed": false,
    "ein.tags": [
     "worksheet-0"
    ]
   },
   "outputs": [
    {
     "data": {
      "text/plain": [
       "<matplotlib.figure.Figure at 0x7fec05e9c048>"
      ]
     },
     "metadata": {},
     "output_type": "display_data"
    },
    {
     "data": {
      "text/plain": [
       "<matplotlib.colorbar.Colorbar at 0x7fec05aec588>"
      ]
     },
     "execution_count": 45,
     "metadata": {},
     "output_type": "execute_result"
    }
   ],
   "source": [
    "n = 200\n",
    "scatter(rand(n), rand(n), rand(n)*30,rand(n))\n",
    "colorbar()\n"
   ]
  },
  {
   "cell_type": "code",
   "execution_count": 70,
   "metadata": {
    "autoscroll": "json-false",
    "collapsed": false,
    "ein.tags": [
     "worksheet-0"
    ]
   },
   "outputs": [
    {
     "data": {
      "text/plain": [
       "<matplotlib.figure.Figure at 0x7fec00f8d6a0>"
      ]
     },
     "metadata": {},
     "output_type": "display_data"
    },
    {
     "data": {
      "text/plain": [
       "<matplotlib.figure.Figure at 0x7fec00fea898>"
      ]
     },
     "metadata": {},
     "output_type": "display_data"
    },
    {
     "data": {
      "text/plain": [
       "[<matplotlib.lines.Line2D at 0x7fec011016a0>,\n <matplotlib.lines.Line2D at 0x7fec01101f98>]"
      ]
     },
     "execution_count": 70,
     "metadata": {},
     "output_type": "execute_result"
    }
   ],
   "source": [
    "figure()\n",
    "scatter (x, sin(x), rand(len(x))*30,rand(len(x)))\n",
    "colorbar()\n",
    "figure()\n",
    "plot (x, sin(x),\n",
    "      x, sin(2*x))\n"
   ]
  },
  {
   "cell_type": "code",
   "execution_count": 57,
   "metadata": {
    "autoscroll": "json-false",
    "collapsed": false,
    "ein.tags": [
     "worksheet-0"
    ]
   },
   "outputs": [
    {
     "data": {
      "text/plain": [
       "<matplotlib.figure.Figure at 0x7fec05719278>"
      ]
     },
     "metadata": {},
     "output_type": "display_data"
    },
    {
     "data": {
      "text/plain": [
       "<matplotlib.legend.Legend at 0x7fec0528f1d0>"
      ]
     },
     "execution_count": 57,
     "metadata": {},
     "output_type": "execute_result"
    }
   ],
   "source": [
    "subplot(2,1,1)\n",
    "plot (x, sin(x),\n",
    "      x, sin(2*x))\n",
    "subplot(2,1,2)\n",
    "plot (x, -sin(x),\n",
    "      x, sin(2*x))\n",
    "title('titled')\n",
    "xlabel('rads')\n",
    "ylabel('amp',fontsize='large')\n",
    "grid()\n",
    "legend(['-sin(x)','sin(2*x)'])\n"
   ]
  },
  {
   "cell_type": "code",
   "execution_count": 71,
   "metadata": {
    "autoscroll": "json-false",
    "collapsed": false,
    "ein.tags": [
     "worksheet-0"
    ]
   },
   "outputs": [
    {
     "data": {
      "text/plain": [
       "{'Accent': <matplotlib.colors.LinearSegmentedColormap at 0x7fec2246aa90>,\n 'Accent_r': <matplotlib.colors.LinearSegmentedColormap at 0x7fec22463ac8>,\n 'Blues': <matplotlib.colors.LinearSegmentedColormap at 0x7fec22463208>,\n 'Blues_r': <matplotlib.colors.LinearSegmentedColormap at 0x7fec2246a0b8>,\n 'BrBG': <matplotlib.colors.LinearSegmentedColormap at 0x7fec22463d68>,\n 'BrBG_r': <matplotlib.colors.LinearSegmentedColormap at 0x7fec2246a3c8>,\n 'BuGn': <matplotlib.colors.LinearSegmentedColormap at 0x7fec22463b00>,\n 'BuGn_r': <matplotlib.colors.LinearSegmentedColormap at 0x7fec2246a438>,\n 'BuPu': <matplotlib.colors.LinearSegmentedColormap at 0x7fec22463ba8>,\n 'BuPu_r': <matplotlib.colors.LinearSegmentedColormap at 0x7fec22463518>,\n 'CMRmap': <matplotlib.colors.LinearSegmentedColormap at 0x7fec22463ef0>,\n 'CMRmap_r': <matplotlib.colors.LinearSegmentedColormap at 0x7fec2246a1d0>,\n 'Dark2': <matplotlib.colors.LinearSegmentedColormap at 0x7fec2246a2b0>,\n 'Dark2_r': <matplotlib.colors.LinearSegmentedColormap at 0x7fec22463630>,\n 'GnBu': <matplotlib.colors.LinearSegmentedColormap at 0x7fec22463e48>,\n 'GnBu_r': <matplotlib.colors.LinearSegmentedColormap at 0x7fec224634a8>,\n 'Greens': <matplotlib.colors.LinearSegmentedColormap at 0x7fec2246a748>,\n 'Greens_r': <matplotlib.colors.LinearSegmentedColormap at 0x7fec2246a6d8>,\n 'Greys': <matplotlib.colors.LinearSegmentedColormap at 0x7fec22444f28>,\n 'Greys_r': <matplotlib.colors.LinearSegmentedColormap at 0x7fec22463be0>,\n 'OrRd': <matplotlib.colors.LinearSegmentedColormap at 0x7fec2246a278>,\n 'OrRd_r': <matplotlib.colors.LinearSegmentedColormap at 0x7fec22444f98>,\n 'Oranges': <matplotlib.colors.LinearSegmentedColormap at 0x7fec2246a320>,\n 'Oranges_r': <matplotlib.colors.LinearSegmentedColormap at 0x7fec22463588>,\n 'PRGn': <matplotlib.colors.LinearSegmentedColormap at 0x7fec22463860>,\n 'PRGn_r': <matplotlib.colors.LinearSegmentedColormap at 0x7fec2246a5f8>,\n 'Paired': <matplotlib.colors.LinearSegmentedColormap at 0x7fec2246a9e8>,\n 'Paired_r': <matplotlib.colors.LinearSegmentedColormap at 0x7fec22463358>,\n 'Pastel1': <matplotlib.colors.LinearSegmentedColormap at 0x7fec22463fd0>,\n 'Pastel1_r': <matplotlib.colors.LinearSegmentedColormap at 0x7fec2246a208>,\n 'Pastel2': <matplotlib.colors.LinearSegmentedColormap at 0x7fec2246aa20>,\n 'Pastel2_r': <matplotlib.colors.LinearSegmentedColormap at 0x7fec2246aac8>,\n 'PiYG': <matplotlib.colors.LinearSegmentedColormap at 0x7fec22444e48>,\n 'PiYG_r': <matplotlib.colors.LinearSegmentedColormap at 0x7fec22444cc0>,\n 'PuBu': <matplotlib.colors.LinearSegmentedColormap at 0x7fec224636a0>,\n 'PuBuGn': <matplotlib.colors.LinearSegmentedColormap at 0x7fec22444c88>,\n 'PuBuGn_r': <matplotlib.colors.LinearSegmentedColormap at 0x7fec22463cf8>,\n 'PuBu_r': <matplotlib.colors.LinearSegmentedColormap at 0x7fec224635f8>,\n 'PuOr': <matplotlib.colors.LinearSegmentedColormap at 0x7fec22463748>,\n 'PuOr_r': <matplotlib.colors.LinearSegmentedColormap at 0x7fec2246a780>,\n 'PuRd': <matplotlib.colors.LinearSegmentedColormap at 0x7fec2246a160>,\n 'PuRd_r': <matplotlib.colors.LinearSegmentedColormap at 0x7fec22463b38>,\n 'Purples': <matplotlib.colors.LinearSegmentedColormap at 0x7fec2246a0f0>,\n 'Purples_r': <matplotlib.colors.LinearSegmentedColormap at 0x7fec2246a048>,\n 'RdBu': <matplotlib.colors.LinearSegmentedColormap at 0x7fec2246a390>,\n 'RdBu_r': <matplotlib.colors.LinearSegmentedColormap at 0x7fec2246a7f0>,\n 'RdGy': <matplotlib.colors.LinearSegmentedColormap at 0x7fec2246a2e8>,\n 'RdGy_r': <matplotlib.colors.LinearSegmentedColormap at 0x7fec22463550>,\n 'RdPu': <matplotlib.colors.LinearSegmentedColormap at 0x7fec224637f0>,\n 'RdPu_r': <matplotlib.colors.LinearSegmentedColormap at 0x7fec22463da0>,\n 'RdYlBu': <matplotlib.colors.LinearSegmentedColormap at 0x7fec2246a4a8>,\n 'RdYlBu_r': <matplotlib.colors.LinearSegmentedColormap at 0x7fec22463e80>,\n 'RdYlGn': <matplotlib.colors.LinearSegmentedColormap at 0x7fec22463940>,\n 'RdYlGn_r': <matplotlib.colors.LinearSegmentedColormap at 0x7fec22463048>,\n 'Reds': <matplotlib.colors.LinearSegmentedColormap at 0x7fec22444c50>,\n 'Reds_r': <matplotlib.colors.LinearSegmentedColormap at 0x7fec22463240>,\n 'Set1': <matplotlib.colors.LinearSegmentedColormap at 0x7fec224630b8>,\n 'Set1_r': <matplotlib.colors.LinearSegmentedColormap at 0x7fec22444ef0>,\n 'Set2': <matplotlib.colors.LinearSegmentedColormap at 0x7fec2246a978>,\n 'Set2_r': <matplotlib.colors.LinearSegmentedColormap at 0x7fec22463080>,\n 'Set3': <matplotlib.colors.LinearSegmentedColormap at 0x7fec22463320>,\n 'Set3_r': <matplotlib.colors.LinearSegmentedColormap at 0x7fec22463c88>,\n 'Spectral': <matplotlib.colors.LinearSegmentedColormap at 0x7fec224639e8>,\n 'Spectral_r': <matplotlib.colors.LinearSegmentedColormap at 0x7fec2246a358>,\n 'Wistia': <matplotlib.colors.LinearSegmentedColormap at 0x7fec22463390>,\n 'Wistia_r': <matplotlib.colors.LinearSegmentedColormap at 0x7fec22463710>,\n 'YlGn': <matplotlib.colors.LinearSegmentedColormap at 0x7fec2246a6a0>,\n 'YlGnBu': <matplotlib.colors.LinearSegmentedColormap at 0x7fec22463dd8>,\n 'YlGnBu_r': <matplotlib.colors.LinearSegmentedColormap at 0x7fec22463470>,\n 'YlGn_r': <matplotlib.colors.LinearSegmentedColormap at 0x7fec2246a080>,\n 'YlOrBr': <matplotlib.colors.LinearSegmentedColormap at 0x7fec2246a8d0>,\n 'YlOrBr_r': <matplotlib.colors.LinearSegmentedColormap at 0x7fec2246a128>,\n 'YlOrRd': <matplotlib.colors.LinearSegmentedColormap at 0x7fec2246a400>,\n 'YlOrRd_r': <matplotlib.colors.LinearSegmentedColormap at 0x7fec2246a828>,\n 'afmhot': <matplotlib.colors.LinearSegmentedColormap at 0x7fec2246a940>,\n 'afmhot_r': <matplotlib.colors.LinearSegmentedColormap at 0x7fec224635c0>,\n 'autumn': <matplotlib.colors.LinearSegmentedColormap at 0x7fec22444c18>,\n 'autumn_r': <matplotlib.colors.LinearSegmentedColormap at 0x7fec22463f60>,\n 'binary': <matplotlib.colors.LinearSegmentedColormap at 0x7fec22463a20>,\n 'binary_r': <matplotlib.colors.LinearSegmentedColormap at 0x7fec2246a240>,\n 'bone': <matplotlib.colors.LinearSegmentedColormap at 0x7fec2246ab38>,\n 'bone_r': <matplotlib.colors.LinearSegmentedColormap at 0x7fec2246aa58>,\n 'brg': <matplotlib.colors.LinearSegmentedColormap at 0x7fec22463128>,\n 'brg_r': <matplotlib.colors.LinearSegmentedColormap at 0x7fec22463c50>,\n 'bwr': <matplotlib.colors.LinearSegmentedColormap at 0x7fec22463c18>,\n 'bwr_r': <matplotlib.colors.LinearSegmentedColormap at 0x7fec22463cc0>,\n 'cool': <matplotlib.colors.LinearSegmentedColormap at 0x7fec22444d68>,\n 'cool_r': <matplotlib.colors.LinearSegmentedColormap at 0x7fec22444dd8>,\n 'coolwarm': <matplotlib.colors.LinearSegmentedColormap at 0x7fec22463978>,\n 'coolwarm_r': <matplotlib.colors.LinearSegmentedColormap at 0x7fec22463198>,\n 'copper': <matplotlib.colors.LinearSegmentedColormap at 0x7fec2246a198>,\n 'copper_r': <matplotlib.colors.LinearSegmentedColormap at 0x7fec22444d30>,\n 'cubehelix': <matplotlib.colors.LinearSegmentedColormap at 0x7fec2246a550>,\n 'cubehelix_r': <matplotlib.colors.LinearSegmentedColormap at 0x7fec22463438>,\n 'flag': <matplotlib.colors.LinearSegmentedColormap at 0x7fec2246a908>,\n 'flag_r': <matplotlib.colors.LinearSegmentedColormap at 0x7fec22444fd0>,\n 'gist_earth': <matplotlib.colors.LinearSegmentedColormap at 0x7fec22463a58>,\n 'gist_earth_r': <matplotlib.colors.LinearSegmentedColormap at 0x7fec2246a710>,\n 'gist_gray': <matplotlib.colors.LinearSegmentedColormap at 0x7fec22444da0>,\n 'gist_gray_r': <matplotlib.colors.LinearSegmentedColormap at 0x7fec224636d8>,\n 'gist_heat': <matplotlib.colors.LinearSegmentedColormap at 0x7fec22463908>,\n 'gist_heat_r': <matplotlib.colors.LinearSegmentedColormap at 0x7fec2246a7b8>,\n 'gist_ncar': <matplotlib.colors.LinearSegmentedColormap at 0x7fec2246a668>,\n 'gist_ncar_r': <matplotlib.colors.LinearSegmentedColormap at 0x7fec2246ab00>,\n 'gist_rainbow': <matplotlib.colors.LinearSegmentedColormap at 0x7fec22444eb8>,\n 'gist_rainbow_r': <matplotlib.colors.LinearSegmentedColormap at 0x7fec224634e0>,\n 'gist_stern': <matplotlib.colors.LinearSegmentedColormap at 0x7fec2246a470>,\n 'gist_stern_r': <matplotlib.colors.LinearSegmentedColormap at 0x7fec2246a9b0>,\n 'gist_yarg': <matplotlib.colors.LinearSegmentedColormap at 0x7fec22463400>,\n 'gist_yarg_r': <matplotlib.colors.LinearSegmentedColormap at 0x7fec22444e80>,\n 'gnuplot': <matplotlib.colors.LinearSegmentedColormap at 0x7fec22463b70>,\n 'gnuplot2': <matplotlib.colors.LinearSegmentedColormap at 0x7fec224633c8>,\n 'gnuplot2_r': <matplotlib.colors.LinearSegmentedColormap at 0x7fec22463780>,\n 'gnuplot_r': <matplotlib.colors.LinearSegmentedColormap at 0x7fec22444be0>,\n 'gray': <matplotlib.colors.LinearSegmentedColormap at 0x7fec22463f98>,\n 'gray_r': <matplotlib.colors.LinearSegmentedColormap at 0x7fec224630f0>,\n 'hot': <matplotlib.colors.LinearSegmentedColormap at 0x7fec224632b0>,\n 'hot_r': <matplotlib.colors.LinearSegmentedColormap at 0x7fec2246a4e0>,\n 'hsv': <matplotlib.colors.LinearSegmentedColormap at 0x7fec22463e10>,\n 'hsv_r': <matplotlib.colors.LinearSegmentedColormap at 0x7fec2246a898>,\n 'inferno': <matplotlib.colors.ListedColormap at 0x7fec224e7cf8>,\n 'inferno_r': <matplotlib.colors.ListedColormap at 0x7fec224e7d30>,\n 'jet': <matplotlib.colors.LinearSegmentedColormap at 0x7fec22463828>,\n 'jet_r': <matplotlib.colors.LinearSegmentedColormap at 0x7fec22444f60>,\n 'magma': <matplotlib.colors.ListedColormap at 0x7fec224e7ba8>,\n 'magma_r': <matplotlib.colors.ListedColormap at 0x7fec224e7cc0>,\n 'nipy_spectral': <matplotlib.colors.LinearSegmentedColormap at 0x7fec2246a630>,\n 'nipy_spectral_r': <matplotlib.colors.LinearSegmentedColormap at 0x7fec22463eb8>,\n 'ocean': <matplotlib.colors.LinearSegmentedColormap at 0x7fec22463898>,\n 'ocean_r': <matplotlib.colors.LinearSegmentedColormap at 0x7fec224637b8>,\n 'pink': <matplotlib.colors.LinearSegmentedColormap at 0x7fec224de208>,\n 'pink_r': <matplotlib.colors.LinearSegmentedColormap at 0x7fec22444ba8>,\n 'plasma': <matplotlib.colors.ListedColormap at 0x7fec224e7d68>,\n 'plasma_r': <matplotlib.colors.ListedColormap at 0x7fec224e7da0>,\n 'prism': <matplotlib.colors.LinearSegmentedColormap at 0x7fec2246a860>,\n 'prism_r': <matplotlib.colors.LinearSegmentedColormap at 0x7fec224639b0>,\n 'rainbow': <matplotlib.colors.LinearSegmentedColormap at 0x7fec224631d0>,\n 'rainbow_r': <matplotlib.colors.LinearSegmentedColormap at 0x7fec22463668>,\n 'seismic': <matplotlib.colors.LinearSegmentedColormap at 0x7fec224638d0>,\n 'seismic_r': <matplotlib.colors.LinearSegmentedColormap at 0x7fec22463d30>,\n 'spectral': <matplotlib.colors.LinearSegmentedColormap at 0x7fec2246a518>,\n 'spectral_r': <matplotlib.colors.LinearSegmentedColormap at 0x7fec22444e10>,\n 'spring': <matplotlib.colors.LinearSegmentedColormap at 0x7fec22444cf8>,\n 'spring_r': <matplotlib.colors.LinearSegmentedColormap at 0x7fec22463278>,\n 'summer': <matplotlib.colors.LinearSegmentedColormap at 0x7fec22463160>,\n 'summer_r': <matplotlib.colors.LinearSegmentedColormap at 0x7fec2246a588>,\n 'terrain': <matplotlib.colors.LinearSegmentedColormap at 0x7fec22463a90>,\n 'terrain_r': <matplotlib.colors.LinearSegmentedColormap at 0x7fec224632e8>,\n 'viridis': <matplotlib.colors.ListedColormap at 0x7fec224e7dd8>,\n 'viridis_r': <matplotlib.colors.ListedColormap at 0x7fec224e7e10>,\n 'winter': <matplotlib.colors.LinearSegmentedColormap at 0x7fec22463f28>,\n 'winter_r': <matplotlib.colors.LinearSegmentedColormap at 0x7fec2246a5c0>}"
      ]
     },
     "execution_count": 71,
     "metadata": {},
     "output_type": "execute_result"
    }
   ],
   "source": [
    "from scipy.misc import lena\n",
    "from matplotlib.pyplot import cm\n",
    "\n",
    "img = lena()\n",
    "\n",
    "cm.cmap_d"
   ]
  },
  {
   "cell_type": "code",
   "execution_count": 73,
   "metadata": {
    "autoscroll": "json-false",
    "collapsed": false,
    "ein.tags": [
     "worksheet-0"
    ]
   },
   "outputs": [
    {
     "data": {
      "text/plain": [
       "<matplotlib.figure.Figure at 0x7fec00e94dd8>"
      ]
     },
     "metadata": {},
     "output_type": "display_data"
    },
    {
     "data": {
      "text/plain": [
       "<matplotlib.colorbar.Colorbar at 0x7fec00e04470>"
      ]
     },
     "execution_count": 73,
     "metadata": {},
     "output_type": "execute_result"
    }
   ],
   "source": [
    "imshow(img,cmap=cm.Purples_r)\n",
    "colorbar()\n"
   ]
  },
  {
   "cell_type": "code",
   "execution_count": 74,
   "metadata": {
    "autoscroll": "json-false",
    "collapsed": false,
    "ein.tags": [
     "worksheet-0"
    ]
   },
   "outputs": [
    {
     "data": {
      "text/plain": [
       "0"
      ]
     },
     "execution_count": 74,
     "metadata": {},
     "output_type": "execute_result"
    }
   ],
   "source": [
    "0"
   ]
  },
  {
   "cell_type": "code",
   "execution_count": null,
   "metadata": {
    "autoscroll": "json-false",
    "collapsed": false,
    "ein.tags": [
     "worksheet-0"
    ]
   },
   "outputs": [],
   "source": []
  }
 ],
 "metadata": {},
 "nbformat": 4,
 "nbformat_minor": 0
}
